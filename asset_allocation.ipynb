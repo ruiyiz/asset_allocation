{
 "cells": [
  {
   "cell_type": "code",
   "execution_count": 1,
   "metadata": {},
   "outputs": [],
   "source": [
    "import pandas as pd\n",
    "import numpy as np\n",
    "import matplotlib.pyplot as plt\n",
    "from datetime import datetime"
   ]
  },
  {
   "cell_type": "markdown",
   "metadata": {},
   "source": [
    "## Load and Transform Input Data"
   ]
  },
  {
   "cell_type": "code",
   "execution_count": 3,
   "metadata": {},
   "outputs": [],
   "source": [
    "# asset price data\n",
    "df_price = pd.read_excel('AssetData.xlsx', sheet_name='Sheet1')"
   ]
  },
  {
   "cell_type": "code",
   "execution_count": 4,
   "metadata": {},
   "outputs": [
    {
     "data": {
      "text/html": [
       "<div>\n",
       "<style scoped>\n",
       "    .dataframe tbody tr th:only-of-type {\n",
       "        vertical-align: middle;\n",
       "    }\n",
       "\n",
       "    .dataframe tbody tr th {\n",
       "        vertical-align: top;\n",
       "    }\n",
       "\n",
       "    .dataframe thead th {\n",
       "        text-align: right;\n",
       "    }\n",
       "</style>\n",
       "<table border=\"1\" class=\"dataframe\">\n",
       "  <thead>\n",
       "    <tr style=\"text-align: right;\">\n",
       "      <th></th>\n",
       "      <th>Dates</th>\n",
       "      <th>Asset1</th>\n",
       "      <th>Asset2</th>\n",
       "      <th>Asset3</th>\n",
       "      <th>Asset4</th>\n",
       "      <th>Asset5</th>\n",
       "      <th>Asset6</th>\n",
       "      <th>Asset7</th>\n",
       "    </tr>\n",
       "  </thead>\n",
       "  <tbody>\n",
       "    <tr>\n",
       "      <th>0</th>\n",
       "      <td>2018-11-07</td>\n",
       "      <td>5457.25</td>\n",
       "      <td>5593.924</td>\n",
       "      <td>456.281</td>\n",
       "      <td>173.6944</td>\n",
       "      <td>1226.11</td>\n",
       "      <td>289.1945</td>\n",
       "      <td>2147.45</td>\n",
       "    </tr>\n",
       "    <tr>\n",
       "      <th>1</th>\n",
       "      <td>2018-11-06</td>\n",
       "      <td>5457.25</td>\n",
       "      <td>5593.924</td>\n",
       "      <td>456.281</td>\n",
       "      <td>173.5643</td>\n",
       "      <td>1227.19</td>\n",
       "      <td>289.1945</td>\n",
       "      <td>2147.45</td>\n",
       "    </tr>\n",
       "    <tr>\n",
       "      <th>2</th>\n",
       "      <td>2018-11-05</td>\n",
       "      <td>5422.88</td>\n",
       "      <td>5578.525</td>\n",
       "      <td>456.298</td>\n",
       "      <td>174.6514</td>\n",
       "      <td>1231.49</td>\n",
       "      <td>289.1822</td>\n",
       "      <td>2148.31</td>\n",
       "    </tr>\n",
       "    <tr>\n",
       "      <th>3</th>\n",
       "      <td>2018-11-02</td>\n",
       "      <td>5392.53</td>\n",
       "      <td>5600.191</td>\n",
       "      <td>458.281</td>\n",
       "      <td>173.9684</td>\n",
       "      <td>1232.89</td>\n",
       "      <td>288.4757</td>\n",
       "      <td>2145.95</td>\n",
       "    </tr>\n",
       "    <tr>\n",
       "      <th>4</th>\n",
       "      <td>2018-11-01</td>\n",
       "      <td>5426.33</td>\n",
       "      <td>5567.267</td>\n",
       "      <td>446.660</td>\n",
       "      <td>173.3351</td>\n",
       "      <td>1233.43</td>\n",
       "      <td>289.3517</td>\n",
       "      <td>2154.29</td>\n",
       "    </tr>\n",
       "  </tbody>\n",
       "</table>\n",
       "</div>"
      ],
      "text/plain": [
       "       Dates   Asset1    Asset2   Asset3    Asset4   Asset5    Asset6   Asset7\n",
       "0 2018-11-07  5457.25  5593.924  456.281  173.6944  1226.11  289.1945  2147.45\n",
       "1 2018-11-06  5457.25  5593.924  456.281  173.5643  1227.19  289.1945  2147.45\n",
       "2 2018-11-05  5422.88  5578.525  456.298  174.6514  1231.49  289.1822  2148.31\n",
       "3 2018-11-02  5392.53  5600.191  458.281  173.9684  1232.89  288.4757  2145.95\n",
       "4 2018-11-01  5426.33  5567.267  446.660  173.3351  1233.43  289.3517  2154.29"
      ]
     },
     "execution_count": 4,
     "metadata": {},
     "output_type": "execute_result"
    }
   ],
   "source": [
    "df_price.head()"
   ]
  },
  {
   "cell_type": "code",
   "execution_count": 5,
   "metadata": {},
   "outputs": [
    {
     "data": {
      "text/html": [
       "<div>\n",
       "<style scoped>\n",
       "    .dataframe tbody tr th:only-of-type {\n",
       "        vertical-align: middle;\n",
       "    }\n",
       "\n",
       "    .dataframe tbody tr th {\n",
       "        vertical-align: top;\n",
       "    }\n",
       "\n",
       "    .dataframe thead th {\n",
       "        text-align: right;\n",
       "    }\n",
       "</style>\n",
       "<table border=\"1\" class=\"dataframe\">\n",
       "  <thead>\n",
       "    <tr style=\"text-align: right;\">\n",
       "      <th></th>\n",
       "      <th>Dates</th>\n",
       "      <th>Asset1</th>\n",
       "      <th>Asset2</th>\n",
       "      <th>Asset3</th>\n",
       "      <th>Asset4</th>\n",
       "      <th>Asset5</th>\n",
       "      <th>Asset6</th>\n",
       "      <th>Asset7</th>\n",
       "    </tr>\n",
       "  </thead>\n",
       "  <tbody>\n",
       "    <tr>\n",
       "      <th>3148</th>\n",
       "      <td>2006-10-13</td>\n",
       "      <td>2095.97</td>\n",
       "      <td>4161.805</td>\n",
       "      <td>278.122</td>\n",
       "      <td>306.581</td>\n",
       "      <td>590.4</td>\n",
       "      <td>187.4862</td>\n",
       "      <td>1435.27</td>\n",
       "    </tr>\n",
       "    <tr>\n",
       "      <th>3149</th>\n",
       "      <td>2006-10-12</td>\n",
       "      <td>2091.68</td>\n",
       "      <td>4156.308</td>\n",
       "      <td>273.561</td>\n",
       "      <td>302.524</td>\n",
       "      <td>579.3</td>\n",
       "      <td>187.7168</td>\n",
       "      <td>1436.96</td>\n",
       "    </tr>\n",
       "    <tr>\n",
       "      <th>3150</th>\n",
       "      <td>2006-10-11</td>\n",
       "      <td>2071.90</td>\n",
       "      <td>4139.568</td>\n",
       "      <td>271.947</td>\n",
       "      <td>301.696</td>\n",
       "      <td>573.0</td>\n",
       "      <td>187.6959</td>\n",
       "      <td>1436.25</td>\n",
       "    </tr>\n",
       "    <tr>\n",
       "      <th>3151</th>\n",
       "      <td>2006-10-10</td>\n",
       "      <td>2077.01</td>\n",
       "      <td>4137.883</td>\n",
       "      <td>272.080</td>\n",
       "      <td>300.518</td>\n",
       "      <td>573.0</td>\n",
       "      <td>188.3498</td>\n",
       "      <td>1438.84</td>\n",
       "    </tr>\n",
       "    <tr>\n",
       "      <th>3152</th>\n",
       "      <td>2006-10-09</td>\n",
       "      <td>2072.71</td>\n",
       "      <td>4132.929</td>\n",
       "      <td>270.747</td>\n",
       "      <td>303.717</td>\n",
       "      <td>577.1</td>\n",
       "      <td>188.9718</td>\n",
       "      <td>1441.94</td>\n",
       "    </tr>\n",
       "  </tbody>\n",
       "</table>\n",
       "</div>"
      ],
      "text/plain": [
       "          Dates   Asset1    Asset2   Asset3   Asset4  Asset5    Asset6  \\\n",
       "3148 2006-10-13  2095.97  4161.805  278.122  306.581   590.4  187.4862   \n",
       "3149 2006-10-12  2091.68  4156.308  273.561  302.524   579.3  187.7168   \n",
       "3150 2006-10-11  2071.90  4139.568  271.947  301.696   573.0  187.6959   \n",
       "3151 2006-10-10  2077.01  4137.883  272.080  300.518   573.0  188.3498   \n",
       "3152 2006-10-09  2072.71  4132.929  270.747  303.717   577.1  188.9718   \n",
       "\n",
       "       Asset7  \n",
       "3148  1435.27  \n",
       "3149  1436.96  \n",
       "3150  1436.25  \n",
       "3151  1438.84  \n",
       "3152  1441.94  "
      ]
     },
     "execution_count": 5,
     "metadata": {},
     "output_type": "execute_result"
    }
   ],
   "source": [
    "df_price.tail()"
   ]
  },
  {
   "cell_type": "markdown",
   "metadata": {},
   "source": [
    "The provided asset price file contains daily asset price data of 7 unnamed assets, starting from 10/09/2006 through 11/07/2018."
   ]
  },
  {
   "cell_type": "code",
   "execution_count": 6,
   "metadata": {},
   "outputs": [
    {
     "data": {
      "text/plain": [
       "Dates     datetime64[ns]\n",
       "Asset1           float64\n",
       "Asset2           float64\n",
       "Asset3           float64\n",
       "Asset4           float64\n",
       "Asset5           float64\n",
       "Asset6           float64\n",
       "Asset7           float64\n",
       "dtype: object"
      ]
     },
     "execution_count": 6,
     "metadata": {},
     "output_type": "execute_result"
    }
   ],
   "source": [
    "df_price.dtypes"
   ]
  },
  {
   "cell_type": "markdown",
   "metadata": {},
   "source": [
    "Data types are already the expected data types. No conversion needed."
   ]
  },
  {
   "cell_type": "code",
   "execution_count": 7,
   "metadata": {},
   "outputs": [],
   "source": [
    "# convert to time series\n",
    "df_price = df_price.rename(columns={\"Dates\" : \"Date\"}).set_index(\"Date\").fillna(method=\"ffill\")"
   ]
  },
  {
   "cell_type": "markdown",
   "metadata": {},
   "source": [
    "Note the original price data are sorted in descending order. Let's rearrange it so that the prices are sorted in ascending order by date."
   ]
  },
  {
   "cell_type": "code",
   "execution_count": 8,
   "metadata": {},
   "outputs": [],
   "source": [
    "df_price = df_price.sort_index()"
   ]
  },
  {
   "cell_type": "markdown",
   "metadata": {},
   "source": [
    "Next, we load and transform the risk free rates."
   ]
  },
  {
   "cell_type": "code",
   "execution_count": 9,
   "metadata": {},
   "outputs": [],
   "source": [
    "# use 3-month treasury bill yield as the proxy of risk free rate\n",
    "# source: https://fred.stlouisfed.org/series/DGS3MO\n",
    "df_rf = pd.read_csv('DGS3MO.csv')"
   ]
  },
  {
   "cell_type": "code",
   "execution_count": 10,
   "metadata": {},
   "outputs": [
    {
     "data": {
      "text/plain": [
       "DATE      object\n",
       "DGS3MO    object\n",
       "dtype: object"
      ]
     },
     "execution_count": 10,
     "metadata": {},
     "output_type": "execute_result"
    }
   ],
   "source": [
    "df_rf.dtypes"
   ]
  },
  {
   "cell_type": "code",
   "execution_count": 11,
   "metadata": {},
   "outputs": [],
   "source": [
    "# convert date strings to python date\n",
    "df_rf['DATE'] = pd.to_datetime(df_rf['DATE'])\n",
    "\n",
    "# convert rates from string format to numeric, also scale it from percentage to decimal\n",
    "df_rf['DGS3MO'] = pd.to_numeric(df_rf['DGS3MO'], errors='coerce') / 100\n",
    "\n",
    "# convert the data frame to a pandas time series, and fill NaN's with the last observation\n",
    "df_rf = df_rf.rename(columns={\"DGS3MO\" : \"Rf\", \"DATE\" : \"Date\"}).set_index('Date').fillna(method=\"ffill\")"
   ]
  },
  {
   "cell_type": "code",
   "execution_count": 12,
   "metadata": {},
   "outputs": [
    {
     "data": {
      "text/html": [
       "<div>\n",
       "<style scoped>\n",
       "    .dataframe tbody tr th:only-of-type {\n",
       "        vertical-align: middle;\n",
       "    }\n",
       "\n",
       "    .dataframe tbody tr th {\n",
       "        vertical-align: top;\n",
       "    }\n",
       "\n",
       "    .dataframe thead th {\n",
       "        text-align: right;\n",
       "    }\n",
       "</style>\n",
       "<table border=\"1\" class=\"dataframe\">\n",
       "  <thead>\n",
       "    <tr style=\"text-align: right;\">\n",
       "      <th></th>\n",
       "      <th>Rf</th>\n",
       "    </tr>\n",
       "    <tr>\n",
       "      <th>Date</th>\n",
       "      <th></th>\n",
       "    </tr>\n",
       "  </thead>\n",
       "  <tbody>\n",
       "    <tr>\n",
       "      <th>2006-10-02</th>\n",
       "      <td>0.0488</td>\n",
       "    </tr>\n",
       "    <tr>\n",
       "      <th>2006-10-03</th>\n",
       "      <td>0.0490</td>\n",
       "    </tr>\n",
       "    <tr>\n",
       "      <th>2006-10-04</th>\n",
       "      <td>0.0493</td>\n",
       "    </tr>\n",
       "    <tr>\n",
       "      <th>2006-10-05</th>\n",
       "      <td>0.0494</td>\n",
       "    </tr>\n",
       "    <tr>\n",
       "      <th>2006-10-06</th>\n",
       "      <td>0.0495</td>\n",
       "    </tr>\n",
       "  </tbody>\n",
       "</table>\n",
       "</div>"
      ],
      "text/plain": [
       "                Rf\n",
       "Date              \n",
       "2006-10-02  0.0488\n",
       "2006-10-03  0.0490\n",
       "2006-10-04  0.0493\n",
       "2006-10-05  0.0494\n",
       "2006-10-06  0.0495"
      ]
     },
     "execution_count": 12,
     "metadata": {},
     "output_type": "execute_result"
    }
   ],
   "source": [
    "df_rf.head()"
   ]
  },
  {
   "cell_type": "code",
   "execution_count": 13,
   "metadata": {},
   "outputs": [
    {
     "data": {
      "text/html": [
       "<div>\n",
       "<style scoped>\n",
       "    .dataframe tbody tr th:only-of-type {\n",
       "        vertical-align: middle;\n",
       "    }\n",
       "\n",
       "    .dataframe tbody tr th {\n",
       "        vertical-align: top;\n",
       "    }\n",
       "\n",
       "    .dataframe thead th {\n",
       "        text-align: right;\n",
       "    }\n",
       "</style>\n",
       "<table border=\"1\" class=\"dataframe\">\n",
       "  <thead>\n",
       "    <tr style=\"text-align: right;\">\n",
       "      <th></th>\n",
       "      <th>Rf</th>\n",
       "    </tr>\n",
       "    <tr>\n",
       "      <th>Date</th>\n",
       "      <th></th>\n",
       "    </tr>\n",
       "  </thead>\n",
       "  <tbody>\n",
       "    <tr>\n",
       "      <th>2018-11-05</th>\n",
       "      <td>0.0236</td>\n",
       "    </tr>\n",
       "    <tr>\n",
       "      <th>2018-11-06</th>\n",
       "      <td>0.0235</td>\n",
       "    </tr>\n",
       "    <tr>\n",
       "      <th>2018-11-07</th>\n",
       "      <td>0.0237</td>\n",
       "    </tr>\n",
       "    <tr>\n",
       "      <th>2018-11-08</th>\n",
       "      <td>0.0235</td>\n",
       "    </tr>\n",
       "    <tr>\n",
       "      <th>2018-11-09</th>\n",
       "      <td>0.0236</td>\n",
       "    </tr>\n",
       "  </tbody>\n",
       "</table>\n",
       "</div>"
      ],
      "text/plain": [
       "                Rf\n",
       "Date              \n",
       "2018-11-05  0.0236\n",
       "2018-11-06  0.0235\n",
       "2018-11-07  0.0237\n",
       "2018-11-08  0.0235\n",
       "2018-11-09  0.0236"
      ]
     },
     "execution_count": 13,
     "metadata": {},
     "output_type": "execute_result"
    }
   ],
   "source": [
    "df_rf.tail()"
   ]
  },
  {
   "cell_type": "markdown",
   "metadata": {},
   "source": [
    "## Data Analysis"
   ]
  },
  {
   "cell_type": "code",
   "execution_count": 14,
   "metadata": {},
   "outputs": [
    {
     "data": {
      "image/png": "[encoded data removed]",
      "text/plain": [
       "<Figure size 432x288 with 1 Axes>"
      ]
     },
     "metadata": {},
     "output_type": "display_data"
    }
   ],
   "source": [
    "plt.plot(df_price.index, df_price)\n",
    "plt.show()"
   ]
  },
  {
   "cell_type": "markdown",
   "metadata": {},
   "source": [
    "Calculate returns"
   ]
  },
  {
   "cell_type": "code",
   "execution_count": 15,
   "metadata": {},
   "outputs": [],
   "source": [
    "# calculate daily asset returns\n",
    "df_dret = df_price.pct_change()"
   ]
  },
  {
   "cell_type": "code",
   "execution_count": 16,
   "metadata": {},
   "outputs": [],
   "source": [
    "# TODO drop partial months at the head and tail of the dataset"
   ]
  },
  {
   "cell_type": "code",
   "execution_count": 17,
   "metadata": {},
   "outputs": [],
   "source": [
    "# monthly returns\n",
    "df_mret = df_dret.groupby([df_dret.index.year, df_dret.index.month]).apply(lambda x: (x + 1).prod() - 1)"
   ]
  },
  {
   "cell_type": "code",
   "execution_count": 18,
   "metadata": {},
   "outputs": [
    {
     "data": {
      "text/html": [
       "<div>\n",
       "<style scoped>\n",
       "    .dataframe tbody tr th:only-of-type {\n",
       "        vertical-align: middle;\n",
       "    }\n",
       "\n",
       "    .dataframe tbody tr th {\n",
       "        vertical-align: top;\n",
       "    }\n",
       "\n",
       "    .dataframe thead th {\n",
       "        text-align: right;\n",
       "    }\n",
       "</style>\n",
       "<table border=\"1\" class=\"dataframe\">\n",
       "  <thead>\n",
       "    <tr style=\"text-align: right;\">\n",
       "      <th></th>\n",
       "      <th></th>\n",
       "      <th>Asset1</th>\n",
       "      <th>Asset2</th>\n",
       "      <th>Asset3</th>\n",
       "      <th>Asset4</th>\n",
       "      <th>Asset5</th>\n",
       "      <th>Asset6</th>\n",
       "      <th>Asset7</th>\n",
       "    </tr>\n",
       "    <tr>\n",
       "      <th>Date</th>\n",
       "      <th>Date</th>\n",
       "      <th></th>\n",
       "      <th></th>\n",
       "      <th></th>\n",
       "      <th></th>\n",
       "      <th></th>\n",
       "      <th></th>\n",
       "      <th></th>\n",
       "    </tr>\n",
       "  </thead>\n",
       "  <tbody>\n",
       "    <tr>\n",
       "      <th rowspan=\"3\" valign=\"top\">2006</th>\n",
       "      <th>10</th>\n",
       "      <td>0.020717</td>\n",
       "      <td>0.031099</td>\n",
       "      <td>0.041334</td>\n",
       "      <td>0.027512</td>\n",
       "      <td>0.051118</td>\n",
       "      <td>0.004911</td>\n",
       "      <td>0.007740</td>\n",
       "    </tr>\n",
       "    <tr>\n",
       "      <th>11</th>\n",
       "      <td>0.019020</td>\n",
       "      <td>0.029884</td>\n",
       "      <td>0.074321</td>\n",
       "      <td>0.054689</td>\n",
       "      <td>0.068249</td>\n",
       "      <td>0.012365</td>\n",
       "      <td>0.010447</td>\n",
       "    </tr>\n",
       "    <tr>\n",
       "      <th>12</th>\n",
       "      <td>0.014027</td>\n",
       "      <td>0.031392</td>\n",
       "      <td>0.045029</td>\n",
       "      <td>-0.045929</td>\n",
       "      <td>-0.017438</td>\n",
       "      <td>-0.023325</td>\n",
       "      <td>-0.008221</td>\n",
       "    </tr>\n",
       "    <tr>\n",
       "      <th rowspan=\"2\" valign=\"top\">2007</th>\n",
       "      <th>1</th>\n",
       "      <td>0.015123</td>\n",
       "      <td>0.006767</td>\n",
       "      <td>-0.010558</td>\n",
       "      <td>0.002105</td>\n",
       "      <td>0.025915</td>\n",
       "      <td>0.001308</td>\n",
       "      <td>-0.001593</td>\n",
       "    </tr>\n",
       "    <tr>\n",
       "      <th>2</th>\n",
       "      <td>-0.019561</td>\n",
       "      <td>0.008069</td>\n",
       "      <td>-0.005936</td>\n",
       "      <td>0.033675</td>\n",
       "      <td>0.024724</td>\n",
       "      <td>0.021345</td>\n",
       "      <td>0.016583</td>\n",
       "    </tr>\n",
       "  </tbody>\n",
       "</table>\n",
       "</div>"
      ],
      "text/plain": [
       "             Asset1    Asset2    Asset3    Asset4    Asset5    Asset6  \\\n",
       "Date Date                                                               \n",
       "2006 10    0.020717  0.031099  0.041334  0.027512  0.051118  0.004911   \n",
       "     11    0.019020  0.029884  0.074321  0.054689  0.068249  0.012365   \n",
       "     12    0.014027  0.031392  0.045029 -0.045929 -0.017438 -0.023325   \n",
       "2007 1     0.015123  0.006767 -0.010558  0.002105  0.025915  0.001308   \n",
       "     2    -0.019561  0.008069 -0.005936  0.033675  0.024724  0.021345   \n",
       "\n",
       "             Asset7  \n",
       "Date Date            \n",
       "2006 10    0.007740  \n",
       "     11    0.010447  \n",
       "     12   -0.008221  \n",
       "2007 1    -0.001593  \n",
       "     2     0.016583  "
      ]
     },
     "execution_count": 18,
     "metadata": {},
     "output_type": "execute_result"
    }
   ],
   "source": [
    "df_mret.head()"
   ]
  },
  {
   "cell_type": "code",
   "execution_count": 19,
   "metadata": {},
   "outputs": [
    {
     "data": {
      "text/html": [
       "<div>\n",
       "<style scoped>\n",
       "    .dataframe tbody tr th:only-of-type {\n",
       "        vertical-align: middle;\n",
       "    }\n",
       "\n",
       "    .dataframe tbody tr th {\n",
       "        vertical-align: top;\n",
       "    }\n",
       "\n",
       "    .dataframe thead th {\n",
       "        text-align: right;\n",
       "    }\n",
       "</style>\n",
       "<table border=\"1\" class=\"dataframe\">\n",
       "  <thead>\n",
       "    <tr style=\"text-align: right;\">\n",
       "      <th></th>\n",
       "      <th></th>\n",
       "      <th>Asset1</th>\n",
       "      <th>Asset2</th>\n",
       "      <th>Asset3</th>\n",
       "      <th>Asset4</th>\n",
       "      <th>Asset5</th>\n",
       "      <th>Asset6</th>\n",
       "      <th>Asset7</th>\n",
       "    </tr>\n",
       "    <tr>\n",
       "      <th>Date</th>\n",
       "      <th>Date</th>\n",
       "      <th></th>\n",
       "      <th></th>\n",
       "      <th></th>\n",
       "      <th></th>\n",
       "      <th></th>\n",
       "      <th></th>\n",
       "      <th></th>\n",
       "    </tr>\n",
       "  </thead>\n",
       "  <tbody>\n",
       "    <tr>\n",
       "      <th rowspan=\"5\" valign=\"top\">2018</th>\n",
       "      <th>7</th>\n",
       "      <td>0.037215</td>\n",
       "      <td>0.024615</td>\n",
       "      <td>0.021968</td>\n",
       "      <td>-0.021343</td>\n",
       "      <td>-0.022713</td>\n",
       "      <td>-0.004811</td>\n",
       "      <td>-0.004184</td>\n",
       "    </tr>\n",
       "    <tr>\n",
       "      <th>8</th>\n",
       "      <td>0.032584</td>\n",
       "      <td>-0.019313</td>\n",
       "      <td>-0.027040</td>\n",
       "      <td>-0.017705</td>\n",
       "      <td>-0.018789</td>\n",
       "      <td>0.007203</td>\n",
       "      <td>0.007650</td>\n",
       "    </tr>\n",
       "    <tr>\n",
       "      <th>9</th>\n",
       "      <td>0.005692</td>\n",
       "      <td>0.008679</td>\n",
       "      <td>-0.005306</td>\n",
       "      <td>0.019176</td>\n",
       "      <td>-0.008550</td>\n",
       "      <td>-0.010531</td>\n",
       "      <td>-0.009337</td>\n",
       "    </tr>\n",
       "    <tr>\n",
       "      <th>10</th>\n",
       "      <td>-0.068350</td>\n",
       "      <td>-0.079592</td>\n",
       "      <td>-0.087084</td>\n",
       "      <td>-0.021588</td>\n",
       "      <td>0.020052</td>\n",
       "      <td>-0.014333</td>\n",
       "      <td>-0.004777</td>\n",
       "    </tr>\n",
       "    <tr>\n",
       "      <th>11</th>\n",
       "      <td>0.016344</td>\n",
       "      <td>0.011039</td>\n",
       "      <td>0.038184</td>\n",
       "      <td>0.006887</td>\n",
       "      <td>0.009343</td>\n",
       "      <td>-0.001940</td>\n",
       "      <td>-0.002063</td>\n",
       "    </tr>\n",
       "  </tbody>\n",
       "</table>\n",
       "</div>"
      ],
      "text/plain": [
       "             Asset1    Asset2    Asset3    Asset4    Asset5    Asset6  \\\n",
       "Date Date                                                               \n",
       "2018 7     0.037215  0.024615  0.021968 -0.021343 -0.022713 -0.004811   \n",
       "     8     0.032584 -0.019313 -0.027040 -0.017705 -0.018789  0.007203   \n",
       "     9     0.005692  0.008679 -0.005306  0.019176 -0.008550 -0.010531   \n",
       "     10   -0.068350 -0.079592 -0.087084 -0.021588  0.020052 -0.014333   \n",
       "     11    0.016344  0.011039  0.038184  0.006887  0.009343 -0.001940   \n",
       "\n",
       "             Asset7  \n",
       "Date Date            \n",
       "2018 7    -0.004184  \n",
       "     8     0.007650  \n",
       "     9    -0.009337  \n",
       "     10   -0.004777  \n",
       "     11   -0.002063  "
      ]
     },
     "execution_count": 19,
     "metadata": {},
     "output_type": "execute_result"
    }
   ],
   "source": [
    "df_mret.tail()"
   ]
  },
  {
   "cell_type": "markdown",
   "metadata": {},
   "source": [
    "Calculate pairwise correlations of all assets."
   ]
  },
  {
   "cell_type": "code",
   "execution_count": 20,
   "metadata": {},
   "outputs": [],
   "source": [
    "correlations = df_mret.corr()"
   ]
  },
  {
   "cell_type": "code",
   "execution_count": 21,
   "metadata": {},
   "outputs": [
    {
     "data": {
      "text/html": [
       "<div>\n",
       "<style scoped>\n",
       "    .dataframe tbody tr th:only-of-type {\n",
       "        vertical-align: middle;\n",
       "    }\n",
       "\n",
       "    .dataframe tbody tr th {\n",
       "        vertical-align: top;\n",
       "    }\n",
       "\n",
       "    .dataframe thead th {\n",
       "        text-align: right;\n",
       "    }\n",
       "</style>\n",
       "<table border=\"1\" class=\"dataframe\">\n",
       "  <thead>\n",
       "    <tr style=\"text-align: right;\">\n",
       "      <th></th>\n",
       "      <th>Asset1</th>\n",
       "      <th>Asset2</th>\n",
       "      <th>Asset3</th>\n",
       "      <th>Asset4</th>\n",
       "      <th>Asset5</th>\n",
       "      <th>Asset6</th>\n",
       "      <th>Asset7</th>\n",
       "    </tr>\n",
       "  </thead>\n",
       "  <tbody>\n",
       "    <tr>\n",
       "      <th>Asset1</th>\n",
       "      <td>1.000000</td>\n",
       "      <td>0.885000</td>\n",
       "      <td>0.777448</td>\n",
       "      <td>0.490516</td>\n",
       "      <td>0.039186</td>\n",
       "      <td>0.166864</td>\n",
       "      <td>-0.300731</td>\n",
       "    </tr>\n",
       "    <tr>\n",
       "      <th>Asset2</th>\n",
       "      <td>0.885000</td>\n",
       "      <td>1.000000</td>\n",
       "      <td>0.879513</td>\n",
       "      <td>0.579386</td>\n",
       "      <td>0.137040</td>\n",
       "      <td>0.253404</td>\n",
       "      <td>-0.240814</td>\n",
       "    </tr>\n",
       "    <tr>\n",
       "      <th>Asset3</th>\n",
       "      <td>0.777448</td>\n",
       "      <td>0.879513</td>\n",
       "      <td>1.000000</td>\n",
       "      <td>0.643828</td>\n",
       "      <td>0.285577</td>\n",
       "      <td>0.343636</td>\n",
       "      <td>-0.191987</td>\n",
       "    </tr>\n",
       "    <tr>\n",
       "      <th>Asset4</th>\n",
       "      <td>0.490516</td>\n",
       "      <td>0.579386</td>\n",
       "      <td>0.643828</td>\n",
       "      <td>1.000000</td>\n",
       "      <td>0.484597</td>\n",
       "      <td>0.348102</td>\n",
       "      <td>-0.159402</td>\n",
       "    </tr>\n",
       "    <tr>\n",
       "      <th>Asset5</th>\n",
       "      <td>0.039186</td>\n",
       "      <td>0.137040</td>\n",
       "      <td>0.285577</td>\n",
       "      <td>0.484597</td>\n",
       "      <td>1.000000</td>\n",
       "      <td>0.517791</td>\n",
       "      <td>0.351385</td>\n",
       "    </tr>\n",
       "    <tr>\n",
       "      <th>Asset6</th>\n",
       "      <td>0.166864</td>\n",
       "      <td>0.253404</td>\n",
       "      <td>0.343636</td>\n",
       "      <td>0.348102</td>\n",
       "      <td>0.517791</td>\n",
       "      <td>1.000000</td>\n",
       "      <td>0.585950</td>\n",
       "    </tr>\n",
       "    <tr>\n",
       "      <th>Asset7</th>\n",
       "      <td>-0.300731</td>\n",
       "      <td>-0.240814</td>\n",
       "      <td>-0.191987</td>\n",
       "      <td>-0.159402</td>\n",
       "      <td>0.351385</td>\n",
       "      <td>0.585950</td>\n",
       "      <td>1.000000</td>\n",
       "    </tr>\n",
       "  </tbody>\n",
       "</table>\n",
       "</div>"
      ],
      "text/plain": [
       "          Asset1    Asset2    Asset3    Asset4    Asset5    Asset6    Asset7\n",
       "Asset1  1.000000  0.885000  0.777448  0.490516  0.039186  0.166864 -0.300731\n",
       "Asset2  0.885000  1.000000  0.879513  0.579386  0.137040  0.253404 -0.240814\n",
       "Asset3  0.777448  0.879513  1.000000  0.643828  0.285577  0.343636 -0.191987\n",
       "Asset4  0.490516  0.579386  0.643828  1.000000  0.484597  0.348102 -0.159402\n",
       "Asset5  0.039186  0.137040  0.285577  0.484597  1.000000  0.517791  0.351385\n",
       "Asset6  0.166864  0.253404  0.343636  0.348102  0.517791  1.000000  0.585950\n",
       "Asset7 -0.300731 -0.240814 -0.191987 -0.159402  0.351385  0.585950  1.000000"
      ]
     },
     "execution_count": 21,
     "metadata": {},
     "output_type": "execute_result"
    }
   ],
   "source": [
    "correlations"
   ]
  },
  {
   "cell_type": "code",
   "execution_count": 22,
   "metadata": {},
   "outputs": [
    {
     "data": {
      "image/png": "[encoded data removed]",
      "text/plain": [
       "<Figure size 432x288 with 2 Axes>"
      ]
     },
     "metadata": {},
     "output_type": "display_data"
    }
   ],
   "source": [
    "# plot correlation matrix\n",
    "names = df_mret.columns\n",
    "fig = plt.figure()\n",
    "ax = fig.add_subplot(111)\n",
    "cax = ax.matshow(correlations, vmin=-1, vmax=1)\n",
    "fig.colorbar(cax)\n",
    "ticks = np.arange(0,7,1)\n",
    "ax.set_xticks(ticks)\n",
    "ax.set_yticks(ticks)\n",
    "ax.set_xticklabels(names)\n",
    "ax.set_yticklabels(names)\n",
    "plt.show()"
   ]
  },
  {
   "cell_type": "markdown",
   "metadata": {},
   "source": [
    "Scatterplots"
   ]
  },
  {
   "cell_type": "code",
   "execution_count": 23,
   "metadata": {},
   "outputs": [
    {
     "data": {
      "image/png": "[encoded data removed]",
      "text/plain": [
       "<Figure size 432x288 with 49 Axes>"
      ]
     },
     "metadata": {},
     "output_type": "display_data"
    }
   ],
   "source": [
    "from pandas.plotting import scatter_matrix\n",
    "scatter_matrix(df_mret)\n",
    "plt.show()"
   ]
  },
  {
   "cell_type": "code",
   "execution_count": 24,
   "metadata": {},
   "outputs": [
    {
     "data": {
      "text/html": [
       "<div>\n",
       "<style scoped>\n",
       "    .dataframe tbody tr th:only-of-type {\n",
       "        vertical-align: middle;\n",
       "    }\n",
       "\n",
       "    .dataframe tbody tr th {\n",
       "        vertical-align: top;\n",
       "    }\n",
       "\n",
       "    .dataframe thead th {\n",
       "        text-align: right;\n",
       "    }\n",
       "</style>\n",
       "<table border=\"1\" class=\"dataframe\">\n",
       "  <thead>\n",
       "    <tr style=\"text-align: right;\">\n",
       "      <th></th>\n",
       "      <th>Asset1</th>\n",
       "      <th>Asset2</th>\n",
       "      <th>Asset3</th>\n",
       "      <th>Asset4</th>\n",
       "      <th>Asset5</th>\n",
       "      <th>Asset6</th>\n",
       "      <th>Asset7</th>\n",
       "    </tr>\n",
       "  </thead>\n",
       "  <tbody>\n",
       "    <tr>\n",
       "      <th>count</th>\n",
       "      <td>146.000000</td>\n",
       "      <td>146.000000</td>\n",
       "      <td>146.000000</td>\n",
       "      <td>146.000000</td>\n",
       "      <td>146.000000</td>\n",
       "      <td>146.000000</td>\n",
       "      <td>146.000000</td>\n",
       "    </tr>\n",
       "    <tr>\n",
       "      <th>mean</th>\n",
       "      <td>0.007516</td>\n",
       "      <td>0.003357</td>\n",
       "      <td>0.005642</td>\n",
       "      <td>-0.002644</td>\n",
       "      <td>0.006511</td>\n",
       "      <td>0.003061</td>\n",
       "      <td>0.002799</td>\n",
       "    </tr>\n",
       "    <tr>\n",
       "      <th>std</th>\n",
       "      <td>0.041322</td>\n",
       "      <td>0.050165</td>\n",
       "      <td>0.063609</td>\n",
       "      <td>0.047990</td>\n",
       "      <td>0.051876</td>\n",
       "      <td>0.016891</td>\n",
       "      <td>0.011645</td>\n",
       "    </tr>\n",
       "    <tr>\n",
       "      <th>min</th>\n",
       "      <td>-0.167951</td>\n",
       "      <td>-0.201783</td>\n",
       "      <td>-0.273677</td>\n",
       "      <td>-0.212832</td>\n",
       "      <td>-0.168896</td>\n",
       "      <td>-0.086914</td>\n",
       "      <td>-0.029161</td>\n",
       "    </tr>\n",
       "    <tr>\n",
       "      <th>25%</th>\n",
       "      <td>-0.013965</td>\n",
       "      <td>-0.019609</td>\n",
       "      <td>-0.026356</td>\n",
       "      <td>-0.027678</td>\n",
       "      <td>-0.024180</td>\n",
       "      <td>-0.005018</td>\n",
       "      <td>-0.003615</td>\n",
       "    </tr>\n",
       "    <tr>\n",
       "      <th>50%</th>\n",
       "      <td>0.013265</td>\n",
       "      <td>0.008267</td>\n",
       "      <td>0.003522</td>\n",
       "      <td>0.001324</td>\n",
       "      <td>0.004466</td>\n",
       "      <td>0.003365</td>\n",
       "      <td>0.001203</td>\n",
       "    </tr>\n",
       "    <tr>\n",
       "      <th>75%</th>\n",
       "      <td>0.032278</td>\n",
       "      <td>0.031824</td>\n",
       "      <td>0.040992</td>\n",
       "      <td>0.025504</td>\n",
       "      <td>0.040433</td>\n",
       "      <td>0.011003</td>\n",
       "      <td>0.008910</td>\n",
       "    </tr>\n",
       "    <tr>\n",
       "      <th>max</th>\n",
       "      <td>0.109292</td>\n",
       "      <td>0.128041</td>\n",
       "      <td>0.170869</td>\n",
       "      <td>0.130045</td>\n",
       "      <td>0.130137</td>\n",
       "      <td>0.058448</td>\n",
       "      <td>0.053071</td>\n",
       "    </tr>\n",
       "  </tbody>\n",
       "</table>\n",
       "</div>"
      ],
      "text/plain": [
       "           Asset1      Asset2      Asset3      Asset4      Asset5      Asset6  \\\n",
       "count  146.000000  146.000000  146.000000  146.000000  146.000000  146.000000   \n",
       "mean     0.007516    0.003357    0.005642   -0.002644    0.006511    0.003061   \n",
       "std      0.041322    0.050165    0.063609    0.047990    0.051876    0.016891   \n",
       "min     -0.167951   -0.201783   -0.273677   -0.212832   -0.168896   -0.086914   \n",
       "25%     -0.013965   -0.019609   -0.026356   -0.027678   -0.024180   -0.005018   \n",
       "50%      0.013265    0.008267    0.003522    0.001324    0.004466    0.003365   \n",
       "75%      0.032278    0.031824    0.040992    0.025504    0.040433    0.011003   \n",
       "max      0.109292    0.128041    0.170869    0.130045    0.130137    0.058448   \n",
       "\n",
       "           Asset7  \n",
       "count  146.000000  \n",
       "mean     0.002799  \n",
       "std      0.011645  \n",
       "min     -0.029161  \n",
       "25%     -0.003615  \n",
       "50%      0.001203  \n",
       "75%      0.008910  \n",
       "max      0.053071  "
      ]
     },
     "execution_count": 24,
     "metadata": {},
     "output_type": "execute_result"
    }
   ],
   "source": [
    "# return statistics\n",
    "df_mret.describe()"
   ]
  },
  {
   "cell_type": "markdown",
   "metadata": {},
   "source": [
    "## Portfolio Optimization"
   ]
  },
  {
   "cell_type": "markdown",
   "metadata": {},
   "source": [
    "Assumptions\n",
    "\n",
    "* Historical returns are used as the proxy for expected returns of assets\n",
    "* Historical covariances are used as the proxy for expected covariances between assets"
   ]
  },
  {
   "cell_type": "code",
   "execution_count": 28,
   "metadata": {
    "scrolled": false
   },
   "outputs": [],
   "source": [
    "R_exp = df_mret.mean() * 12"
   ]
  },
  {
   "cell_type": "code",
   "execution_count": 99,
   "metadata": {},
   "outputs": [
    {
     "data": {
      "text/plain": [
       "Asset1    9.0\n",
       "Asset2    4.0\n",
       "Asset3    6.8\n",
       "Asset4   -3.2\n",
       "Asset5    7.8\n",
       "Asset6    3.7\n",
       "Asset7    3.4\n",
       "dtype: float64"
      ]
     },
     "execution_count": 99,
     "metadata": {},
     "output_type": "execute_result"
    }
   ],
   "source": [
    "R_exp.round(3) * 100"
   ]
  },
  {
   "cell_type": "code",
   "execution_count": 101,
   "metadata": {},
   "outputs": [],
   "source": [
    "CovMat_exp = np.cov(df_mret, rowvar=False)"
   ]
  },
  {
   "cell_type": "code",
   "execution_count": 105,
   "metadata": {},
   "outputs": [
    {
     "data": {
      "text/html": [
       "<div>\n",
       "<style scoped>\n",
       "    .dataframe tbody tr th:only-of-type {\n",
       "        vertical-align: middle;\n",
       "    }\n",
       "\n",
       "    .dataframe tbody tr th {\n",
       "        vertical-align: top;\n",
       "    }\n",
       "\n",
       "    .dataframe thead th {\n",
       "        text-align: right;\n",
       "    }\n",
       "</style>\n",
       "<table border=\"1\" class=\"dataframe\">\n",
       "  <thead>\n",
       "    <tr style=\"text-align: right;\">\n",
       "      <th></th>\n",
       "      <th>Asset1</th>\n",
       "      <th>Asset2</th>\n",
       "      <th>Asset3</th>\n",
       "      <th>Asset4</th>\n",
       "      <th>Asset5</th>\n",
       "      <th>Asset6</th>\n",
       "      <th>Asset7</th>\n",
       "    </tr>\n",
       "  </thead>\n",
       "  <tbody>\n",
       "    <tr>\n",
       "      <th>Asset1</th>\n",
       "      <td>1.000000</td>\n",
       "      <td>0.885000</td>\n",
       "      <td>0.777448</td>\n",
       "      <td>0.490516</td>\n",
       "      <td>0.039186</td>\n",
       "      <td>0.166864</td>\n",
       "      <td>-0.300731</td>\n",
       "    </tr>\n",
       "    <tr>\n",
       "      <th>Asset2</th>\n",
       "      <td>0.885000</td>\n",
       "      <td>1.000000</td>\n",
       "      <td>0.879513</td>\n",
       "      <td>0.579386</td>\n",
       "      <td>0.137040</td>\n",
       "      <td>0.253404</td>\n",
       "      <td>-0.240814</td>\n",
       "    </tr>\n",
       "    <tr>\n",
       "      <th>Asset3</th>\n",
       "      <td>0.777448</td>\n",
       "      <td>0.879513</td>\n",
       "      <td>1.000000</td>\n",
       "      <td>0.643828</td>\n",
       "      <td>0.285577</td>\n",
       "      <td>0.343636</td>\n",
       "      <td>-0.191987</td>\n",
       "    </tr>\n",
       "    <tr>\n",
       "      <th>Asset4</th>\n",
       "      <td>0.490516</td>\n",
       "      <td>0.579386</td>\n",
       "      <td>0.643828</td>\n",
       "      <td>1.000000</td>\n",
       "      <td>0.484597</td>\n",
       "      <td>0.348102</td>\n",
       "      <td>-0.159402</td>\n",
       "    </tr>\n",
       "    <tr>\n",
       "      <th>Asset5</th>\n",
       "      <td>0.039186</td>\n",
       "      <td>0.137040</td>\n",
       "      <td>0.285577</td>\n",
       "      <td>0.484597</td>\n",
       "      <td>1.000000</td>\n",
       "      <td>0.517791</td>\n",
       "      <td>0.351385</td>\n",
       "    </tr>\n",
       "    <tr>\n",
       "      <th>Asset6</th>\n",
       "      <td>0.166864</td>\n",
       "      <td>0.253404</td>\n",
       "      <td>0.343636</td>\n",
       "      <td>0.348102</td>\n",
       "      <td>0.517791</td>\n",
       "      <td>1.000000</td>\n",
       "      <td>0.585950</td>\n",
       "    </tr>\n",
       "    <tr>\n",
       "      <th>Asset7</th>\n",
       "      <td>-0.300731</td>\n",
       "      <td>-0.240814</td>\n",
       "      <td>-0.191987</td>\n",
       "      <td>-0.159402</td>\n",
       "      <td>0.351385</td>\n",
       "      <td>0.585950</td>\n",
       "      <td>1.000000</td>\n",
       "    </tr>\n",
       "  </tbody>\n",
       "</table>\n",
       "</div>"
      ],
      "text/plain": [
       "          Asset1    Asset2    Asset3    Asset4    Asset5    Asset6    Asset7\n",
       "Asset1  1.000000  0.885000  0.777448  0.490516  0.039186  0.166864 -0.300731\n",
       "Asset2  0.885000  1.000000  0.879513  0.579386  0.137040  0.253404 -0.240814\n",
       "Asset3  0.777448  0.879513  1.000000  0.643828  0.285577  0.343636 -0.191987\n",
       "Asset4  0.490516  0.579386  0.643828  1.000000  0.484597  0.348102 -0.159402\n",
       "Asset5  0.039186  0.137040  0.285577  0.484597  1.000000  0.517791  0.351385\n",
       "Asset6  0.166864  0.253404  0.343636  0.348102  0.517791  1.000000  0.585950\n",
       "Asset7 -0.300731 -0.240814 -0.191987 -0.159402  0.351385  0.585950  1.000000"
      ]
     },
     "execution_count": 105,
     "metadata": {},
     "output_type": "execute_result"
    }
   ],
   "source": [
    "df_mret.corr()"
   ]
  },
  {
   "cell_type": "code",
   "execution_count": 34,
   "metadata": {},
   "outputs": [],
   "source": [
    "def port_return(w, R):\n",
    "    return np.sum(w * R)"
   ]
  },
  {
   "cell_type": "code",
   "execution_count": 38,
   "metadata": {},
   "outputs": [],
   "source": [
    "n_assets = df_mret.columns.size"
   ]
  },
  {
   "cell_type": "code",
   "execution_count": 40,
   "metadata": {},
   "outputs": [],
   "source": [
    "w = np.array([1./n_assets] * n_assets)"
   ]
  },
  {
   "cell_type": "code",
   "execution_count": 41,
   "metadata": {},
   "outputs": [
    {
     "data": {
      "text/plain": [
       "0.04498528960471392"
      ]
     },
     "execution_count": 41,
     "metadata": {},
     "output_type": "execute_result"
    }
   ],
   "source": [
    "port_return(w, R_exp)"
   ]
  },
  {
   "cell_type": "code",
   "execution_count": 72,
   "metadata": {},
   "outputs": [],
   "source": [
    "def port_vol(w, Cov):\n",
    "    return np.sqrt(np.dot(w.T, np.dot(Cov, w)))"
   ]
  },
  {
   "cell_type": "code",
   "execution_count": 71,
   "metadata": {},
   "outputs": [
    {
     "data": {
      "text/plain": [
       "0.02975852475059659"
      ]
     },
     "execution_count": 71,
     "metadata": {},
     "output_type": "execute_result"
    }
   ],
   "source": [
    "port_vol(w, CovMat_exp)"
   ]
  },
  {
   "cell_type": "code",
   "execution_count": 74,
   "metadata": {},
   "outputs": [],
   "source": [
    "def min_fun(w, R, Cov):\n",
    "    return -1 * port_return(w, R) / port_vol(w, Cov)"
   ]
  },
  {
   "cell_type": "code",
   "execution_count": 88,
   "metadata": {},
   "outputs": [],
   "source": [
    "from scipy.optimize import minimize\n",
    "\n",
    "def port_optimize(R, Cov, min_wt = 0.05, max_wt = 0.2, req_ret = 0.05):\n",
    "    \"\"\"Maximize the sharpe ratio to find the optimal weights\"\"\"\n",
    "    n_assets = R.size\n",
    "    \n",
    "    cons = ({'type': 'eq', 'fun': lambda x: np.sum(x) - 1}, \n",
    "            {'type': 'ineq', 'fun': lambda x: port_return(x, R) - req_ret})\n",
    "    \n",
    "    bnds = tuple((min_wt, max_wt) for x in range(n_assets))\n",
    "    \n",
    "    opt = minimize(min_fun,\n",
    "                   x0=np.array([1./n_assets] * n_assets),\n",
    "                   args=(R, Cov),\n",
    "                   method='SLSQP',\n",
    "                   bounds=bnds,\n",
    "                   constraints=cons)\n",
    "\n",
    "    opt_weights = opt['x']\n",
    "\n",
    "    return  opt_weights"
   ]
  },
  {
   "cell_type": "code",
   "execution_count": 92,
   "metadata": {},
   "outputs": [
    {
     "name": "stdout",
     "output_type": "stream",
     "text": [
      "[0.25 0.05 0.05 0.05 0.08 0.05 0.47]\n"
     ]
    },
    {
     "data": {
      "text/plain": [
       "1.0000000000170672"
      ]
     },
     "execution_count": 92,
     "metadata": {},
     "output_type": "execute_result"
    }
   ],
   "source": [
    "opt_weight = port_optimize(R_exp, CovMat_exp, min_wt = 0.05, max_wt=1.)\n",
    "print(np.round(opt_weight, decimals=2))\n",
    "np.sum(opt_weight)"
   ]
  },
  {
   "cell_type": "code",
   "execution_count": 93,
   "metadata": {},
   "outputs": [
    {
     "data": {
      "text/plain": [
       "0.05000001887185236"
      ]
     },
     "execution_count": 93,
     "metadata": {},
     "output_type": "execute_result"
    }
   ],
   "source": [
    "port_return(opt_weight, R_exp)"
   ]
  },
  {
   "cell_type": "code",
   "execution_count": 94,
   "metadata": {},
   "outputs": [
    {
     "data": {
      "text/plain": [
       "0.018119032071459592"
      ]
     },
     "execution_count": 94,
     "metadata": {},
     "output_type": "execute_result"
    }
   ],
   "source": [
    "port_vol(opt_weight, CovMat_exp)"
   ]
  }
 ],
 "metadata": {
  "kernelspec": {
   "display_name": "Python 3",
   "language": "python",
   "name": "python3"
  },
  "language_info": {
   "codemirror_mode": {
    "name": "ipython",
    "version": 3
   },
   "file_extension": ".py",
   "mimetype": "text/x-python",
   "name": "python",
   "nbconvert_exporter": "python",
   "pygments_lexer": "ipython3",
   "version": "3.6.6"
  }
 },
 "nbformat": 4,
 "nbformat_minor": 2
}
